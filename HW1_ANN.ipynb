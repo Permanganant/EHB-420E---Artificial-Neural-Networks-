{
  "nbformat": 4,
  "nbformat_minor": 0,
  "metadata": {
    "colab": {
      "name": "HW1_ANN.ipynb",
      "provenance": [],
      "authorship_tag": "ABX9TyP6rh95qmF2C+Mt09LL9hSP",
      "include_colab_link": true
    },
    "kernelspec": {
      "name": "python3",
      "display_name": "Python 3"
    },
    "language_info": {
      "name": "python"
    }
  },
  "cells": [
    {
      "cell_type": "markdown",
      "metadata": {
        "id": "view-in-github",
        "colab_type": "text"
      },
      "source": [
        "<a href=\"https://colab.research.google.com/github/Permanganant/EHB-420E---Artificial-Neural-Networks-/blob/main/HW1_ANN.ipynb\" target=\"_parent\"><img src=\"https://colab.research.google.com/assets/colab-badge.svg\" alt=\"Open In Colab\"/></a>"
      ]
    },
    {
      "cell_type": "markdown",
      "metadata": {
        "id": "17kChC86ylAy"
      },
      "source": [
        "# EHB 420E Artificial Neural Networks\n",
        "# Homework - 1\n",
        "\n",
        "Mert Alperen Beser"
      ]
    },
    {
      "cell_type": "markdown",
      "metadata": {
        "id": "WuNV9GFsm66-"
      },
      "source": [
        "## Problem - 1\n",
        "\n",
        "---\n",
        "Create a program that asks the user to enter their name and their age. Print out a message\n",
        "addressed to them that tells them the year that they will turn 100 years old.\n"
      ]
    },
    {
      "cell_type": "code",
      "metadata": {
        "id": "IdAt_inonEer"
      },
      "source": [
        "from time import gmtime, strftime"
      ],
      "execution_count": null,
      "outputs": []
    },
    {
      "cell_type": "code",
      "metadata": {
        "colab": {
          "base_uri": "https://localhost:8080/"
        },
        "id": "qEobwcRtkR1u",
        "outputId": "8f25a9ee-9fe7-480c-83b3-75380c5fd374"
      },
      "source": [
        "name = input(\"Please Enter Your Name: \")"
      ],
      "execution_count": null,
      "outputs": [
        {
          "name": "stdout",
          "output_type": "stream",
          "text": [
            "Please Enter Your Name: Mert\n"
          ]
        }
      ]
    },
    {
      "cell_type": "code",
      "metadata": {
        "colab": {
          "base_uri": "https://localhost:8080/"
        },
        "id": "1Bku_-bHlYqf",
        "outputId": "b312bd20-5785-4d97-88fc-22d73730a31d"
      },
      "source": [
        "age = input(\"Please Enter Your Age: \")"
      ],
      "execution_count": null,
      "outputs": [
        {
          "name": "stdout",
          "output_type": "stream",
          "text": [
            "Please Enter Your Age: 22\n"
          ]
        }
      ]
    },
    {
      "cell_type": "code",
      "metadata": {
        "colab": {
          "base_uri": "https://localhost:8080/"
        },
        "id": "qMV68JvhnN9i",
        "outputId": "a7b8a9e1-5ec7-40fe-dbb5-5fd33bef2c94"
      },
      "source": [
        "current_year = gmtime()[0]\n",
        "hndrd_year = current_year - int(age) + 100 \n",
        "hndrd_year"
      ],
      "execution_count": null,
      "outputs": [
        {
          "output_type": "execute_result",
          "data": {
            "text/plain": [
              "2099"
            ]
          },
          "metadata": {},
          "execution_count": 56
        }
      ]
    },
    {
      "cell_type": "markdown",
      "metadata": {
        "id": "nE1JuszXnVlY"
      },
      "source": [
        "## Problem - 2\n",
        "\n",
        "---\n",
        "\n",
        "Write a Python program to print the following string in a specific format\n",
        "\n"
      ]
    },
    {
      "cell_type": "code",
      "metadata": {
        "colab": {
          "base_uri": "https://localhost:8080/"
        },
        "id": "asypwzOtnIuA",
        "outputId": "65883099-8414-43fc-c199-ee8a1041ab76"
      },
      "source": [
        "print(\"Twinkle, twinkle, little star,\\n\\tHow I wonder what you are!\\n\\t\\tUp above the world so high,\\n\\t\\tLike a diamond in the sky.\\nTwinkle, twinkle, little star,\\n\\tHow I wonder what you are\")"
      ],
      "execution_count": null,
      "outputs": [
        {
          "output_type": "stream",
          "name": "stdout",
          "text": [
            "Twinkle, twinkle, little star,\n",
            "\tHow I wonder what you are!\n",
            "\t\tUp above the world so high,\n",
            "\t\tLike a diamond in the sky.\n",
            "Twinkle, twinkle, little star,\n",
            "\tHow I wonder what you are\n"
          ]
        }
      ]
    },
    {
      "cell_type": "code",
      "metadata": {
        "id": "66aAbruIWSB-"
      },
      "source": [
        "from time import gmtime, strftime"
      ],
      "execution_count": null,
      "outputs": []
    },
    {
      "cell_type": "code",
      "metadata": {
        "colab": {
          "base_uri": "https://localhost:8080/",
          "height": 53
        },
        "id": "A08S7XcoqIGd",
        "outputId": "e882d7e6-ae17-4004-93d7-485d70b22925"
      },
      "source": [
        "print(\"Current date and time :\")\n",
        "time.strftime(\"%Y %H:%M:%S\", gmtime())"
      ],
      "execution_count": null,
      "outputs": [
        {
          "output_type": "stream",
          "name": "stdout",
          "text": [
            "Current date and time :\n"
          ]
        },
        {
          "output_type": "execute_result",
          "data": {
            "application/vnd.google.colaboratory.intrinsic+json": {
              "type": "string"
            },
            "text/plain": [
              "'2021 16:13:47'"
            ]
          },
          "metadata": {},
          "execution_count": 53
        }
      ]
    },
    {
      "cell_type": "markdown",
      "metadata": {
        "id": "Y5O245TgvNsl"
      },
      "source": [
        "## Problem - 3\n",
        "\n",
        "---\n",
        "\n",
        "Compute and print both roots of the quadratic equation x2-5.86 x+ 8.5408\n"
      ]
    },
    {
      "cell_type": "code",
      "metadata": {
        "id": "KUrHG8kQvSdS"
      },
      "source": [
        "a = 1\n",
        "b = -5.86\n",
        "c = 8.5408"
      ],
      "execution_count": null,
      "outputs": []
    },
    {
      "cell_type": "code",
      "metadata": {
        "id": "UAL10lX-Q0bY",
        "colab": {
          "base_uri": "https://localhost:8080/"
        },
        "outputId": "d664bde5-f4ee-4daa-8685-1bf074f17e8b"
      },
      "source": [
        "root1 = (-b + (b**2 - 4*a*c)**(0.5))/2*a\n",
        "root2 = (-b - (b**2 - 4*a*c)**(0.5))/2*a\n",
        "print(\"First root is :\", root1)\n",
        "print(\"Second root is :\", root2)"
      ],
      "execution_count": null,
      "outputs": [
        {
          "output_type": "stream",
          "name": "stdout",
          "text": [
            "First root is : 3.1400000000000006\n",
            "Second root is : 2.7199999999999998\n"
          ]
        }
      ]
    },
    {
      "cell_type": "markdown",
      "metadata": {
        "id": "BVCudWpbyWpc"
      },
      "source": [
        "## Problem - 4\n",
        "\n",
        "---\n",
        "\n",
        "Explain Bitwise, special, and membership operators.\n"
      ]
    },
    {
      "cell_type": "markdown",
      "metadata": {
        "id": "WZ6xd5NB0osr"
      },
      "source": [
        "### Bitwise operations\n",
        "\n",
        "\n",
        "\n"
      ]
    },
    {
      "cell_type": "markdown",
      "metadata": {
        "id": "0n1YID9XymmR"
      },
      "source": [
        "**Bitwise** operations are the operations that are in bit level. It lets the developer manipulate and work with bit patterns or binary numerals. It has massive various usage as expected. Developer can perform logic operations such as xor, or , and , not etc. It is very useful and powerful tool while considering various conditions to process in the code line. Some of the well known bitwise operations for python can be seen below.\n"
      ]
    },
    {
      "cell_type": "code",
      "metadata": {
        "colab": {
          "base_uri": "https://localhost:8080/",
          "height": 0
        },
        "id": "9O3rPQ-raxmZ",
        "outputId": "6714ebbf-611f-456e-9f11-425ac9472780"
      },
      "source": [
        "x = 4\n",
        "y = 5\n",
        "\n",
        "#Bitwise OR operation\n",
        "print(\"x | y =\", x | y)\n",
        " \n",
        "#Bitwise NOT operation\n",
        "print(\"~x =\", ~x)\n",
        "\n",
        "#Bitwise AND operation\n",
        "print(\"x & y =\", x & y)\n",
        "  \n",
        "#Bitwise XOR operation\n",
        "print(\"x ^ y =\", x ^ y)"
      ],
      "execution_count": 23,
      "outputs": [
        {
          "output_type": "stream",
          "name": "stdout",
          "text": [
            "x | y = 5\n",
            "~x = -5\n",
            "x & y = 4\n",
            "x ^ y = 1\n"
          ]
        }
      ]
    },
    {
      "cell_type": "markdown",
      "metadata": {
        "id": "-sNE3dDBgzKu"
      },
      "source": [
        "### Special Operators\n"
      ]
    },
    {
      "cell_type": "markdown",
      "metadata": {
        "id": "AanAMavWg8ze"
      },
      "source": [
        "Special operators are what make the coding writable. For example, the summing or subtraction operation in the computer is a barely time-consuming operation from a coding perspective. Instead of using 1's and 0's and complementary kinds of stuff, python has just a \"+\" sign to sum up two variables even it can sum two strings which is hard to code with just 1's and 0's. There are lots of special operators like the \"+\" sign in Python. \"=\", \"//\", \"**\", \"%\", \"-\", \"/\", \"*\" are the well known examples of special operators. Developers can easily perform mathematical and string operations using these operators. In python, these operators are much users friendly and easy because of python's English or text-like commands compare to its competitors. Code examples of some operators can be seen below."
      ]
    },
    {
      "cell_type": "code",
      "metadata": {
        "colab": {
          "base_uri": "https://localhost:8080/",
          "height": 0
        },
        "id": "ntPT8CR-X-q0",
        "outputId": "5094f39a-20cb-42ba-d2a4-9ceed95277a8"
      },
      "source": [
        "a = 9; b = 11\n",
        "sum = a + b #Summing operation\n",
        "sum"
      ],
      "execution_count": 12,
      "outputs": [
        {
          "output_type": "execute_result",
          "data": {
            "text/plain": [
              "20"
            ]
          },
          "metadata": {},
          "execution_count": 12
        }
      ]
    },
    {
      "cell_type": "code",
      "metadata": {
        "colab": {
          "base_uri": "https://localhost:8080/",
          "height": 0
        },
        "id": "7s9eg4nBYP_l",
        "outputId": "5a38b970-351c-4ecc-d4e9-5f3d88e6d0e0"
      },
      "source": [
        "mod = sum % 3 #Mod operation\n",
        "mod"
      ],
      "execution_count": 14,
      "outputs": [
        {
          "output_type": "execute_result",
          "data": {
            "text/plain": [
              "2"
            ]
          },
          "metadata": {},
          "execution_count": 14
        }
      ]
    },
    {
      "cell_type": "code",
      "metadata": {
        "colab": {
          "base_uri": "https://localhost:8080/",
          "height": 0
        },
        "id": "UAWutRkVYY_b",
        "outputId": "aa6e4735-f65c-40a8-e8a5-d32194b38e5d"
      },
      "source": [
        "power = 4 ** 2 #Power of given number\n",
        "power"
      ],
      "execution_count": 10,
      "outputs": [
        {
          "output_type": "execute_result",
          "data": {
            "text/plain": [
              "16"
            ]
          },
          "metadata": {},
          "execution_count": 10
        }
      ]
    },
    {
      "cell_type": "code",
      "metadata": {
        "colab": {
          "base_uri": "https://localhost:8080/",
          "height": 0
        },
        "id": "-rwPpgBbZYId",
        "outputId": "df9f0b79-5db8-49ef-ba0d-c1a90ac95fd5"
      },
      "source": [
        "x = 12\n",
        "y = 9\n",
        "floor_division = x // y #Floor division - division that results into whole number adjusted to the left in the number line\t\n",
        "floor_division"
      ],
      "execution_count": 18,
      "outputs": [
        {
          "output_type": "execute_result",
          "data": {
            "text/plain": [
              "1"
            ]
          },
          "metadata": {},
          "execution_count": 18
        }
      ]
    },
    {
      "cell_type": "code",
      "metadata": {
        "colab": {
          "base_uri": "https://localhost:8080/",
          "height": 0
        },
        "id": "1Te0uQz2ZzMR",
        "outputId": "305a5e6f-196e-46c9-fbcc-f5a32539ee88"
      },
      "source": [
        "eq = ((x * y // 2) ** 3) / 2 #Simple math equation with special operators\n",
        "eq"
      ],
      "execution_count": 19,
      "outputs": [
        {
          "output_type": "execute_result",
          "data": {
            "text/plain": [
              "78732.0"
            ]
          },
          "metadata": {},
          "execution_count": 19
        }
      ]
    },
    {
      "cell_type": "code",
      "metadata": {
        "colab": {
          "base_uri": "https://localhost:8080/",
          "height": 36
        },
        "id": "n783Z_cfYtIT",
        "outputId": "9e4ec902-d94c-4bc8-a860-192f5b561809"
      },
      "source": [
        "code = \"EHB 424E \"\n",
        "name = \"Artificial Neural Networks\"\n",
        "string_sum = code + name #String sum operation\n",
        "string_sum"
      ],
      "execution_count": 9,
      "outputs": [
        {
          "output_type": "execute_result",
          "data": {
            "application/vnd.google.colaboratory.intrinsic+json": {
              "type": "string"
            },
            "text/plain": [
              "'EHB 424E Artificial Neural Networks'"
            ]
          },
          "metadata": {},
          "execution_count": 9
        }
      ]
    },
    {
      "cell_type": "markdown",
      "metadata": {
        "id": "0Nzs0b2kMSPf"
      },
      "source": [
        "### Membership Operators"
      ]
    },
    {
      "cell_type": "markdown",
      "metadata": {
        "id": "BX7VxsM9MaUP"
      },
      "source": [
        "Membership operators are checking whether the specified member is in a  given sequence. There are two membership operators in Python and these are \"in\" and \"not in\". The code example of membership operators can be seen below."
      ]
    },
    {
      "cell_type": "code",
      "metadata": {
        "colab": {
          "base_uri": "https://localhost:8080/",
          "height": 0
        },
        "id": "mgm6gsOvaFpC",
        "outputId": "ab0294a7-017e-460d-e376-43939289174d"
      },
      "source": [
        "name = \"Artificial Neural Networks\"\n",
        "if 'Neural' in name:\n",
        "  print(\"Specified name contains the word 'Neural' \")\n",
        "\n",
        "if 'EHB' not in name:\n",
        "  print(\"Specified name does not contain the word 'EHB' \")"
      ],
      "execution_count": 21,
      "outputs": [
        {
          "output_type": "stream",
          "name": "stdout",
          "text": [
            "Specified name contains the word 'Neural' \n",
            "Specified name does not contain the word 'EHB' \n"
          ]
        }
      ]
    }
  ]
}