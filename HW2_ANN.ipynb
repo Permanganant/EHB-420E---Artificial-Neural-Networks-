{
  "nbformat": 4,
  "nbformat_minor": 0,
  "metadata": {
    "colab": {
      "name": "HW2_ANN.ipynb",
      "provenance": [],
      "collapsed_sections": [],
      "authorship_tag": "ABX9TyPfDp8QJeWJVPn6q9Ymnlep",
      "include_colab_link": true
    },
    "kernelspec": {
      "name": "python3",
      "display_name": "Python 3"
    },
    "language_info": {
      "name": "python"
    }
  },
  "cells": [
    {
      "cell_type": "markdown",
      "metadata": {
        "id": "view-in-github",
        "colab_type": "text"
      },
      "source": [
        "<a href=\"https://colab.research.google.com/github/Permanganant/EHB-420E---Artificial-Neural-Networks-/blob/main/HW2_ANN.ipynb\" target=\"_parent\"><img src=\"https://colab.research.google.com/assets/colab-badge.svg\" alt=\"Open In Colab\"/></a>"
      ]
    },
    {
      "cell_type": "markdown",
      "metadata": {
        "id": "_MovviPoIwO-"
      },
      "source": [
        "# EHB 420E Artificial Neural Networks\n",
        "# Homework - 2\n",
        "\n",
        "Mert Alperen Beser"
      ]
    },
    {
      "cell_type": "markdown",
      "metadata": {
        "id": "X787HdY-I0Ii"
      },
      "source": [
        "## Problem - 1\n",
        "\n",
        "---\n",
        "\n",
        "a) Use a for loop to compute the 10th triangular number. The nth triangular number is defined as 1+2+3+...+n. "
      ]
    },
    {
      "cell_type": "code",
      "metadata": {
        "colab": {
          "base_uri": "https://localhost:8080/"
        },
        "id": "W7ObS2LHIzsp",
        "outputId": "e27a4150-ab1c-473b-a67f-c4f5e9600053"
      },
      "source": [
        "tri_num = 0\n",
        "for i in range(1,11):\n",
        "  tri_num = tri_num + i\n",
        "  \n",
        "print(tri_num)"
      ],
      "execution_count": null,
      "outputs": [
        {
          "output_type": "stream",
          "name": "stdout",
          "text": [
            "55\n"
          ]
        }
      ]
    },
    {
      "cell_type": "markdown",
      "metadata": {
        "id": "lh4Kz02YLvoJ"
      },
      "source": [
        "b) Use a for loop to compute 10!, the factorial of 10. Recall that the factorial of n is 1*2*3*...*n."
      ]
    },
    {
      "cell_type": "code",
      "metadata": {
        "colab": {
          "base_uri": "https://localhost:8080/"
        },
        "id": "GPxOsxEbLUYa",
        "outputId": "16091fed-c0e1-4b23-e280-6fcb0193177a"
      },
      "source": [
        "#This function will return the factorial of the given number\n",
        "def factorial(n):\n",
        "  factorial = 1\n",
        "  \n",
        "  for i in range(1,n+1):\n",
        "    factorial = factorial * i\n",
        "\n",
        "  return factorial\n",
        "\n",
        "n = 10\n",
        "#Printing the factorial of 10\n",
        "print(factorial(n))"
      ],
      "execution_count": null,
      "outputs": [
        {
          "output_type": "stream",
          "name": "stdout",
          "text": [
            "3628800\n"
          ]
        }
      ]
    },
    {
      "cell_type": "markdown",
      "metadata": {
        "id": "c09Mq4qAMqpw"
      },
      "source": [
        "c) Write code to print the first 10 factorials, in reverse order. In other words, write code that prints 10!, then prints 9!, then prints 8!, ..., then prints 1!. Its literal output will be:\n",
        "3628800\n",
        "362880\n",
        "40320\n",
        "5040\n",
        "720\n",
        "120\n",
        "24\n",
        "6\n",
        "2\n",
        "1\n"
      ]
    },
    {
      "cell_type": "code",
      "metadata": {
        "colab": {
          "base_uri": "https://localhost:8080/"
        },
        "id": "jWNKde1VMpz6",
        "outputId": "46b28958-ca7b-45b8-b054-07fcb180dde6"
      },
      "source": [
        "for n in range(10,1,-1):#For reverse count we used -1 at the end of the range function\n",
        "  print(factorial(n))\n"
      ],
      "execution_count": null,
      "outputs": [
        {
          "output_type": "stream",
          "name": "stdout",
          "text": [
            "3628800\n",
            "362880\n",
            "40320\n",
            "5040\n",
            "720\n",
            "120\n",
            "24\n",
            "6\n",
            "2\n"
          ]
        }
      ]
    },
    {
      "cell_type": "markdown",
      "metadata": {
        "id": "lQWHgtPVXo2j"
      },
      "source": [
        "Not : For (a) and (b) , the first line of your solution will be n = 10. After that, your solution should not use 10 again, though your solution will use n. In other words, your code (after the n = 10 line) should work for any value of n. For (c ), The first line of your solution should assign a variable numlines to 10, and then the rest of your solution must not use 10 anywhere."
      ]
    },
    {
      "cell_type": "markdown",
      "metadata": {
        "id": "g4I2VT0QbRjk"
      },
      "source": [
        "## Problem - 2\n",
        "\n",
        "---\n",
        "a) Using a for loop, write a program that prints out the decimal equivalents of 1/2, 1/3, 1/4,..., 1/10. "
      ]
    },
    {
      "cell_type": "code",
      "metadata": {
        "colab": {
          "base_uri": "https://localhost:8080/"
        },
        "id": "01D2sZbnXvnY",
        "outputId": "23cf217d-bf07-48f7-ad23-e4beea80d5ef"
      },
      "source": [
        "n = 10\n",
        "for i in range(2,n+1):\n",
        "  print(1/i)"
      ],
      "execution_count": null,
      "outputs": [
        {
          "output_type": "stream",
          "name": "stdout",
          "text": [
            "0.5\n",
            "0.3333333333333333\n",
            "0.25\n",
            "0.2\n",
            "0.16666666666666666\n",
            "0.14285714285714285\n",
            "0.125\n",
            "0.1111111111111111\n",
            "0.1\n"
          ]
        }
      ]
    },
    {
      "cell_type": "markdown",
      "metadata": {
        "id": "A1qzsVH0bqNH"
      },
      "source": [
        "b) Write a program using a while loop that asks the user for a number, and prints a countdown from that number to zero. What should your program do if the user inputs a negative number? As a programmer, you should always consider “edge conditions” like these when you program! (Another way to put it- always assume the users of your program will be trying to ﬁnd a way to break it! If you don’t include a condition that catches negative numbers, what will your program do?) "
      ]
    },
    {
      "cell_type": "code",
      "metadata": {
        "colab": {
          "base_uri": "https://localhost:8080/"
        },
        "id": "yuYvVoVZbtuA",
        "outputId": "f0ee602e-7d99-409e-d6c0-53e45baf5364"
      },
      "source": [
        "x = 1\n",
        "while(x == 1):\n",
        "  num  = input(\"Please Enter a number for countdown: \")#Getting input from the user\n",
        "  if (num.isdigit() == True):#Checking the input is digit or not\n",
        "    num = int(num)#Converting input string to integer\n",
        "    if(num > 0):#Checking whether the number is positive\n",
        "      for i in range (num,0,-1):\n",
        "        print(i)\n",
        "        x = 0#To stop while loop and complete the process\n",
        "    else:\n",
        "      print(\"Please enter a positive number\")#Error message\n",
        "  else:\n",
        "      print(\"Please enter a positive number\")#Error message"
      ],
      "execution_count": null,
      "outputs": [
        {
          "output_type": "stream",
          "name": "stdout",
          "text": [
            "Please Enter a number for countdown: 10\n",
            "10\n",
            "9\n",
            "8\n",
            "7\n",
            "6\n",
            "5\n",
            "4\n",
            "3\n",
            "2\n",
            "1\n"
          ]
        }
      ]
    },
    {
      "cell_type": "markdown",
      "metadata": {
        "id": "RpZlyjQ7N852"
      },
      "source": [
        "c) Write a program using a for loop that calculates exponentials. Your program should ask the user for a base base and an exponent exp, and calculate baseexp. "
      ]
    },
    {
      "cell_type": "code",
      "metadata": {
        "id": "12jsSatKK85p",
        "colab": {
          "base_uri": "https://localhost:8080/"
        },
        "outputId": "0193c0be-cf76-4e25-e1a2-66b82947eb88"
      },
      "source": [
        "#Getting input from the user\n",
        "#(I intended to check whether both exponent and base are numbers but it was not asked so I did not add it to the code)\n",
        "base = input(\"Please enter base number for exponential calculation: \")\n",
        "exp =  input(\"Please enter exponent number for exponential calculation: \")\n",
        "\n",
        "#Converting the input strings to the integers\n",
        "base = int(base)\n",
        "exp = int(exp)\n",
        "\n",
        "result = 1#Initialize result for multiplication\n",
        "\n",
        "for i in range(1,exp+1):\n",
        "  result = result * base\n",
        "\n",
        "print(\"Desired exponential calculation result: \", result)"
      ],
      "execution_count": null,
      "outputs": [
        {
          "output_type": "stream",
          "name": "stdout",
          "text": [
            "Please enter base number for exponential calculation: 2\n",
            "Please enter exponent number for exponential calculation: 3\n",
            "Desired exponential calculation result:  8\n"
          ]
        }
      ]
    },
    {
      "cell_type": "markdown",
      "metadata": {
        "id": "RlhDu4huOI_U"
      },
      "source": [
        "d)\tWrite a program using a while loop that asks the user to enter a number that is divisible by 2. Give the user a witty message if they enter something that is not divisible by 2- and make them enter a new number. Don’t let them stop until they enter an even number! Print a congratulatory message when they “ﬁnally” get it right."
      ]
    },
    {
      "cell_type": "code",
      "metadata": {
        "id": "0nyEujdNOLV-",
        "colab": {
          "base_uri": "https://localhost:8080/"
        },
        "outputId": "32a1c0bf-0ad4-41bd-9e80-8534425168a9"
      },
      "source": [
        "x = True\n",
        "while(x == True):\n",
        "  number = int(input(\"Please enter a number that can be divisible by 2: \"))\n",
        "  \n",
        "  if(number%2 != 0):#Checking the number whether the number is even\n",
        "    print(\"Please be sure that the number you enter is even! Try one more time you can do it\")\n",
        "  else:#if the number is even , the codes end the loop by equaling x to False\n",
        "    print(\"Ohhh, finally you manage to enter even number!!!\")\n",
        "    x = False\n"
      ],
      "execution_count": null,
      "outputs": [
        {
          "output_type": "stream",
          "name": "stdout",
          "text": [
            "Please enter a number that can be divisible by 2: 3\n",
            "Please be sure that the number you enter is even! Try one more time you can do it\n",
            "Please enter a number that can be divisible by 2: 5\n",
            "Please be sure that the number you enter is even! Try one more time you can do it\n",
            "Please enter a number that can be divisible by 2: 8\n",
            "Ohhh, finally you manage to enter even number!!!\n"
          ]
        }
      ]
    },
    {
      "cell_type": "markdown",
      "metadata": {
        "id": "95q4KlxEGNf1"
      },
      "source": [
        "e)\tThe while-loop implementation of a for-loop. Consider the following example code, which converts a list of temperature values from Celcius to Fahrenheit. Write a while-loop implementation of the above code."
      ]
    },
    {
      "cell_type": "code",
      "metadata": {
        "colab": {
          "base_uri": "https://localhost:8080/"
        },
        "id": "VQnvtYq-F5LA",
        "outputId": "a73bc571-bd0f-4bd8-f6cd-bdf72499f42c"
      },
      "source": [
        "Cdegrees = [-20, -15, -10, -5, 0, 5, 10, 15, 20, 25, 30, 35, 40]\n",
        "print ('    C     F')\n",
        "i = 0\n",
        "while(i != len(Cdegrees)):\n",
        "\n",
        "  F = (9.0/5)*Cdegrees[i] + 32\n",
        "  print ('%5d %5.1f' % (Cdegrees[i], F))\n",
        "  i = i + 1\n"
      ],
      "execution_count": null,
      "outputs": [
        {
          "output_type": "stream",
          "name": "stdout",
          "text": [
            "    C     F\n",
            "  -20  -4.0\n",
            "  -15   5.0\n",
            "  -10  14.0\n",
            "   -5  23.0\n",
            "    0  32.0\n",
            "    5  41.0\n",
            "   10  50.0\n",
            "   15  59.0\n",
            "   20  68.0\n",
            "   25  77.0\n",
            "   30  86.0\n",
            "   35  95.0\n",
            "   40 104.0\n"
          ]
        }
      ]
    },
    {
      "cell_type": "markdown",
      "metadata": {
        "id": "8sudK4O1LrC8"
      },
      "source": [
        "\n",
        "f)\tConsider the following program,\n"
      ]
    },
    {
      "cell_type": "code",
      "metadata": {
        "colab": {
          "base_uri": "https://localhost:8080/"
        },
        "id": "a5RTUGwGLhmu",
        "outputId": "a977a54b-8c82-48d3-c720-1a8492c8d28d"
      },
      "source": [
        "from math import sqrt\n",
        "for n in range(1, 60):\n",
        "    r_org = 2.0\n",
        "    r = r_org\n",
        "    for i in range(n):\n",
        "        r = sqrt(r)\n",
        "    for i in range(n):\n",
        "        r = r ** 2\n",
        "    print ('With {} times sqrt and then {} times **2, the number {} becomes: {:.16f}'.format(n,n,r_org,r))\n"
      ],
      "execution_count": null,
      "outputs": [
        {
          "output_type": "stream",
          "name": "stdout",
          "text": [
            "With 1 times sqrt and then 1 times **2, the number 2.0 becomes: 2.0000000000000004\n",
            "With 2 times sqrt and then 2 times **2, the number 2.0 becomes: 1.9999999999999996\n",
            "With 3 times sqrt and then 3 times **2, the number 2.0 becomes: 1.9999999999999996\n",
            "With 4 times sqrt and then 4 times **2, the number 2.0 becomes: 1.9999999999999964\n",
            "With 5 times sqrt and then 5 times **2, the number 2.0 becomes: 1.9999999999999964\n",
            "With 6 times sqrt and then 6 times **2, the number 2.0 becomes: 1.9999999999999964\n",
            "With 7 times sqrt and then 7 times **2, the number 2.0 becomes: 1.9999999999999714\n",
            "With 8 times sqrt and then 8 times **2, the number 2.0 becomes: 2.0000000000000235\n",
            "With 9 times sqrt and then 9 times **2, the number 2.0 becomes: 2.0000000000000235\n",
            "With 10 times sqrt and then 10 times **2, the number 2.0 becomes: 2.0000000000000235\n",
            "With 11 times sqrt and then 11 times **2, the number 2.0 becomes: 2.0000000000000235\n",
            "With 12 times sqrt and then 12 times **2, the number 2.0 becomes: 1.9999999999991336\n",
            "With 13 times sqrt and then 13 times **2, the number 2.0 becomes: 1.9999999999973292\n",
            "With 14 times sqrt and then 14 times **2, the number 2.0 becomes: 1.9999999999973292\n",
            "With 15 times sqrt and then 15 times **2, the number 2.0 becomes: 1.9999999999973292\n",
            "With 16 times sqrt and then 16 times **2, the number 2.0 becomes: 2.0000000000117746\n",
            "With 17 times sqrt and then 17 times **2, the number 2.0 becomes: 2.0000000000408580\n",
            "With 18 times sqrt and then 18 times **2, the number 2.0 becomes: 2.0000000000408580\n",
            "With 19 times sqrt and then 19 times **2, the number 2.0 becomes: 2.0000000001573586\n",
            "With 20 times sqrt and then 20 times **2, the number 2.0 becomes: 2.0000000001573586\n",
            "With 21 times sqrt and then 21 times **2, the number 2.0 becomes: 2.0000000001573586\n",
            "With 22 times sqrt and then 22 times **2, the number 2.0 becomes: 2.0000000010885857\n",
            "With 23 times sqrt and then 23 times **2, the number 2.0 becomes: 2.0000000029511749\n",
            "With 24 times sqrt and then 24 times **2, the number 2.0 becomes: 2.0000000066771721\n",
            "With 25 times sqrt and then 25 times **2, the number 2.0 becomes: 2.0000000066771721\n",
            "With 26 times sqrt and then 26 times **2, the number 2.0 becomes: 1.9999999917775542\n",
            "With 27 times sqrt and then 27 times **2, the number 2.0 becomes: 1.9999999917775542\n",
            "With 28 times sqrt and then 28 times **2, the number 2.0 becomes: 1.9999999917775542\n",
            "With 29 times sqrt and then 29 times **2, the number 2.0 becomes: 1.9999999917775542\n",
            "With 30 times sqrt and then 30 times **2, the number 2.0 becomes: 1.9999999917775542\n",
            "With 31 times sqrt and then 31 times **2, the number 2.0 becomes: 1.9999999917775542\n",
            "With 32 times sqrt and then 32 times **2, the number 2.0 becomes: 1.9999990380770896\n",
            "With 33 times sqrt and then 33 times **2, the number 2.0 becomes: 1.9999971307544144\n",
            "With 34 times sqrt and then 34 times **2, the number 2.0 becomes: 1.9999971307544144\n",
            "With 35 times sqrt and then 35 times **2, the number 2.0 becomes: 1.9999971307544144\n",
            "With 36 times sqrt and then 36 times **2, the number 2.0 becomes: 1.9999971307544144\n",
            "With 37 times sqrt and then 37 times **2, the number 2.0 becomes: 1.9999971307544144\n",
            "With 38 times sqrt and then 38 times **2, the number 2.0 becomes: 1.9999360966436217\n",
            "With 39 times sqrt and then 39 times **2, the number 2.0 becomes: 1.9999360966436217\n",
            "With 40 times sqrt and then 40 times **2, the number 2.0 becomes: 1.9999360966436217\n",
            "With 41 times sqrt and then 41 times **2, the number 2.0 becomes: 1.9994478907329654\n",
            "With 42 times sqrt and then 42 times **2, the number 2.0 becomes: 1.9984718365144798\n",
            "With 43 times sqrt and then 43 times **2, the number 2.0 becomes: 1.9965211562778555\n",
            "With 44 times sqrt and then 44 times **2, the number 2.0 becomes: 1.9965211562778555\n",
            "With 45 times sqrt and then 45 times **2, the number 2.0 becomes: 1.9887374575497223\n",
            "With 46 times sqrt and then 46 times **2, the number 2.0 becomes: 1.9887374575497223\n",
            "With 47 times sqrt and then 47 times **2, the number 2.0 becomes: 1.9887374575497223\n",
            "With 48 times sqrt and then 48 times **2, the number 2.0 becomes: 1.9887374575497223\n",
            "With 49 times sqrt and then 49 times **2, the number 2.0 becomes: 1.8682459487159784\n",
            "With 50 times sqrt and then 50 times **2, the number 2.0 becomes: 1.6487212645509468\n",
            "With 51 times sqrt and then 51 times **2, the number 2.0 becomes: 1.6487212645509468\n",
            "With 52 times sqrt and then 52 times **2, the number 2.0 becomes: 1.0000000000000000\n",
            "With 53 times sqrt and then 53 times **2, the number 2.0 becomes: 1.0000000000000000\n",
            "With 54 times sqrt and then 54 times **2, the number 2.0 becomes: 1.0000000000000000\n",
            "With 55 times sqrt and then 55 times **2, the number 2.0 becomes: 1.0000000000000000\n",
            "With 56 times sqrt and then 56 times **2, the number 2.0 becomes: 1.0000000000000000\n",
            "With 57 times sqrt and then 57 times **2, the number 2.0 becomes: 1.0000000000000000\n",
            "With 58 times sqrt and then 58 times **2, the number 2.0 becomes: 1.0000000000000000\n",
            "With 59 times sqrt and then 59 times **2, the number 2.0 becomes: 1.0000000000000000\n"
          ]
        }
      ]
    },
    {
      "cell_type": "markdown",
      "metadata": {
        "id": "Xd_eFKzDL4iR"
      },
      "source": [
        "Explain what this code does. Then run the code, and explain why do you the behavior observed. In particular, why do you not recover the original value 2 after many repetitions of the same forward and reverse task?\n",
        "\n",
        "# *Explanation*\n",
        "\n",
        "*The idea of this code is to show us the computers have computation limits. To be more clear, the float number is limited because of the bit limitation of the computer. What happens is that when one does calculations over and over again the error percentage increase per process because of the bit limitation. In this code, when one calculated the square root of a function, very little error percentage occurs as a result. After that, when one tries to get the second power of the number, the error occurs again with the previous error. As a result, error increases gradually.*\n"
      ]
    },
    {
      "cell_type": "markdown",
      "metadata": {
        "id": "NazdoCi2L_MB"
      },
      "source": [
        "## Problem - 3\n",
        "\n",
        "---\n",
        "\n",
        "In mathematics, the Fibonacci numbers are the numbers in the following integer sequence, called the Fibonacci sequence, that are characterized by the fact that every number after the first two is the sum of the two preceding ones:0, 1, 1, 2, 3, 5, 8, 13, 21, 34, 55, 89, 144, …with the following sequence equation,Fib(n)Fib(0)Fib(1)===Fib(n−1)+Fib(n−2) ,0 ,1 .Write a Python function named fib that takes in an input argument which should be integer number n, and then calculates the nth number in the Fibonacci sequence and outputs it on the screen. Also, if the input argument is not a non-negative integer, it prints an error message on the screen and asks the user to re-enter a non-negative integer number. Also, when it is done with finding the requested Fibonacci number, it asks again the user to either input a new non-negative integer, or enter ‘stop’ to end the function, like the following,"
      ]
    },
    {
      "cell_type": "code",
      "metadata": {
        "id": "JZNDYckSMsyX",
        "colab": {
          "base_uri": "https://localhost:8080/"
        },
        "outputId": "d2f6d047-dca0-4191-a8ee-a7b3f965a96e"
      },
      "source": [
        "#FIB Function\n",
        "\n",
        "def fib(n):\n",
        "  def fibo(n_int):\n",
        "    #Recursive Fibonacci Algorithm\n",
        "    if(n_int == 0):\n",
        "      return 0\n",
        "\n",
        "    elif(n_int == 1):\n",
        "        return 1\n",
        "\n",
        "    else:\n",
        "        return fibo(n_int - 1) + fibo(n_int - 2)\n",
        "    \n",
        "  n = str(n)\n",
        "  x = True\n",
        "  y = False\n",
        "\n",
        "  while(x == True):\n",
        "    if(n == 'stop'):     \n",
        "      x = False\n",
        "\n",
        "    elif(n.isdigit() == True and int(n) >= 0): \n",
        "      #Fibonacci calculation\n",
        "      number = fibo(int(n))\n",
        "      print(number)\n",
        "\n",
        "      #Checking the right input message \n",
        "      if(y == True):\n",
        "        n = input(\"Please enter a non-negative integer: \")\n",
        "        y = False\n",
        "      else:\n",
        "        n = input(\"Please enter another non-negative integer: \")\n",
        "      \n",
        "       \n",
        "    else:\n",
        "      print(\"The input argument\",n + \" is not a non-negative integer!\")\n",
        "      n = input(\"Please enter a non-negative integer: \")  \n",
        "      y = False\n",
        "\n",
        "\n",
        "fib('amir')"
      ],
      "execution_count": null,
      "outputs": [
        {
          "name": "stdout",
          "output_type": "stream",
          "text": [
            "The input argument amir is not a non-negative integer!\n",
            "Please enter a non-negative integer: -123\n",
            "The input argument -123 is not a non-negative integer!\n",
            "Please enter a non-negative integer: 12.4\n",
            "The input argument 12.4 is not a non-negative integer!\n",
            "Please enter a non-negative integer: 0\n",
            "0\n",
            "Please enter another non-negative integer: 1\n",
            "1\n",
            "Please enter another non-negative integer: 2\n",
            "1\n",
            "Please enter another non-negative integer: 3\n",
            "2\n",
            "Please enter another non-negative integer: 4\n",
            "3\n",
            "Please enter another non-negative integer: 5\n",
            "5\n",
            "Please enter another non-negative integer: 6\n",
            "8\n",
            "Please enter another non-negative integer: 7\n",
            "13\n",
            "Please enter another non-negative integer: 8\n",
            "21\n",
            "Please enter another non-negative integer: 9\n",
            "34\n",
            "Please enter another non-negative integer: 10\n",
            "55\n",
            "Please enter another non-negative integer: 11\n",
            "89\n",
            "Please enter another non-negative integer: 12\n",
            "144\n",
            "Please enter another non-negative integer: 13\n",
            "233\n",
            "Please enter another non-negative integer: stop\n"
          ]
        }
      ]
    }
  ]
}